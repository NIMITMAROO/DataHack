{
  "nbformat": 4,
  "nbformat_minor": 0,
  "metadata": {
    "colab": {
      "provenance": []
    },
    "kernelspec": {
      "name": "python3",
      "display_name": "Python 3"
    },
    "language_info": {
      "name": "python"
    }
  },
  "cells": [
    {
      "cell_type": "code",
      "execution_count": 58,
      "metadata": {
        "id": "2ilVScq6-ZIY"
      },
      "outputs": [],
      "source": [
        "import pandas as pd\n",
        "import numpy as np\n",
        "import matplotlib.pyplot as plt\n",
        "import seaborn as sns\n",
        "from sklearn.model_selection import train_test_split\n",
        "from sklearn.linear_model import LinearRegression\n",
        "from sklearn.metrics import mean_squared_error, r2_score\n",
        "from sklearn.model_selection import train_test_split, GridSearchCV\n",
        "from sklearn.preprocessing import StandardScaler, OneHotEncoder\n",
        "from sklearn.compose import ColumnTransformer\n",
        "from sklearn.pipeline import Pipeline\n",
        "from sklearn.ensemble import RandomForestClassifier\n",
        "from sklearn.metrics import roc_auc_score"
      ]
    },
    {
      "cell_type": "code",
      "source": [
        "path = '/content/drive/MyDrive/DATASET/dataset and all/test_set_features.csv'\n",
        "df_test = pd.read_csv(path)\n",
        "df_test"
      ],
      "metadata": {
        "id": "_QJBKgOFk8ho"
      },
      "execution_count": null,
      "outputs": []
    },
    {
      "cell_type": "code",
      "source": [
        "df_test['age_group'] = df_test['age_group'].replace({'18 - 34 Years': 1, '35 - 44 Years': 2, '45 - 54 Years': 3,'55 - 64 Years':4,'65+ Years':5})\n",
        "df_test['education']  = df_test['education'].replace({'< 12 Years': 1, '12 Years': 2, 'Some College': 3,'College Graduate':4})\n",
        "df_test['income_poverty'] = df_test['income_poverty'].replace({'<= $75,000, Above Poverty':3,'> $75,000':2,'Below Poverty':1})"
      ],
      "metadata": {
        "id": "aH0FmMhIBQYv"
      },
      "execution_count": 60,
      "outputs": []
    },
    {
      "cell_type": "code",
      "source": [
        "cols_to_use  = ['respondent_id', 'xyz_concern', 'xyz_knowledge',\n",
        "       'behavioral_antiviral_meds', 'behavioral_avoidance',\n",
        "       'behavioral_face_mask', 'behavioral_wash_hands',\n",
        "       'behavioral_large_gatherings', 'behavioral_outside_home',\n",
        "       'behavioral_touch_face', 'doctor_recc_xyz', 'doctor_recc_seasonal',\n",
        "       'chronic_med_condition', 'child_under_6_months', 'health_worker',\n",
        "       'health_insurance', 'opinion_xyz_vacc_effective', 'opinion_xyz_risk',\n",
        "       'opinion_xyz_sick_from_vacc', 'opinion_seas_vacc_effective',\n",
        "       'opinion_seas_risk', 'opinion_seas_sick_from_vacc', 'age_group',\n",
        "       'education', 'income_poverty',\n",
        "       'household_adults', 'household_children',\n",
        "      ]\n",
        "df_test1 = df_test[cols_to_use]"
      ],
      "metadata": {
        "id": "Yz0TyDOeBmo-"
      },
      "execution_count": 61,
      "outputs": []
    },
    {
      "cell_type": "code",
      "source": [
        "df_test2  = df_test1.dropna()"
      ],
      "metadata": {
        "id": "kr0-DmWiCLmo"
      },
      "execution_count": 62,
      "outputs": []
    },
    {
      "cell_type": "code",
      "source": [
        "df_test3 = pd.get_dummies(df_test2, drop_first=True)"
      ],
      "metadata": {
        "id": "Z4MbJhz8CUIv"
      },
      "execution_count": 63,
      "outputs": []
    },
    {
      "cell_type": "code",
      "source": [
        "X_test21 = df_test3.drop(columns=['respondent_id'])"
      ],
      "metadata": {
        "id": "f8WJM0D7CY7W"
      },
      "execution_count": 64,
      "outputs": []
    },
    {
      "cell_type": "code",
      "source": [
        "train = '/content/drive/MyDrive/DATASET/dataset and all/training_set_features.csv'\n",
        "df  = pd.read_csv(train)"
      ],
      "metadata": {
        "id": "Wbnevo0X-iwx"
      },
      "execution_count": 65,
      "outputs": []
    },
    {
      "cell_type": "code",
      "source": [
        "train_out = '/content/drive/MyDrive/DATASET/dataset and all/training_set_labels.csv'\n",
        "df1 = pd.read_csv(train_out)"
      ],
      "metadata": {
        "id": "CehlqJwT-it7"
      },
      "execution_count": 66,
      "outputs": []
    },
    {
      "cell_type": "code",
      "source": [
        "df2 = pd.concat([df, df1], axis=1)"
      ],
      "metadata": {
        "id": "5b97tXHw-iq7"
      },
      "execution_count": 67,
      "outputs": []
    },
    {
      "cell_type": "code",
      "source": [
        "df2['age_group'] = df2['age_group'].replace({'18 - 34 Years': 1, '35 - 44 Years': 2, '45 - 54 Years': 3,'55 - 64 Years':4,'65+ Years':5})\n",
        "df2['education']  = df2['education'].replace({'< 12 Years': 1, '12 Years': 2, 'Some College': 3,'College Graduate':4})\n",
        "df2['income_poverty'] = df2['income_poverty'].replace({'<= $75,000, Above Poverty':3,'> $75,000':2,'Below Poverty':1})"
      ],
      "metadata": {
        "id": "rHd-7L22-inp"
      },
      "execution_count": 68,
      "outputs": []
    },
    {
      "cell_type": "code",
      "source": [
        "cols_to_use  = ['respondent_id', 'xyz_concern', 'xyz_knowledge',\n",
        "       'behavioral_antiviral_meds', 'behavioral_avoidance',\n",
        "       'behavioral_face_mask', 'behavioral_wash_hands',\n",
        "       'behavioral_large_gatherings', 'behavioral_outside_home',\n",
        "       'behavioral_touch_face', 'doctor_recc_xyz', 'doctor_recc_seasonal',\n",
        "       'chronic_med_condition', 'child_under_6_months', 'health_worker',\n",
        "       'health_insurance', 'opinion_xyz_vacc_effective', 'opinion_xyz_risk',\n",
        "       'opinion_xyz_sick_from_vacc', 'opinion_seas_vacc_effective',\n",
        "       'opinion_seas_risk', 'opinion_seas_sick_from_vacc', 'age_group',\n",
        "       'education', 'income_poverty',\n",
        "       'household_adults', 'household_children',\n",
        "      'xyz_vaccine',\n",
        "       'seasonal_vaccine']\n",
        "df3 = df2[cols_to_use]\n",
        "df3.isnull().sum()"
      ],
      "metadata": {
        "id": "YERgcwUJ-iky"
      },
      "execution_count": null,
      "outputs": []
    },
    {
      "cell_type": "code",
      "source": [
        "df4  = df3.dropna()"
      ],
      "metadata": {
        "id": "DZWGRNW_-ihz"
      },
      "execution_count": 70,
      "outputs": []
    },
    {
      "cell_type": "code",
      "source": [
        "df5 = pd.get_dummies(df4, drop_first=True)"
      ],
      "metadata": {
        "id": "mkL-fHEh-ie5"
      },
      "execution_count": 71,
      "outputs": []
    },
    {
      "cell_type": "code",
      "source": [
        "X = df5.drop(columns=['respondent_id', 'xyz_vaccine', 'seasonal_vaccine'])\n",
        "y = df5[['xyz_vaccine', 'seasonal_vaccine']]"
      ],
      "metadata": {
        "id": "0kplWgQM-ibq"
      },
      "execution_count": 72,
      "outputs": []
    },
    {
      "cell_type": "code",
      "source": [
        "X_train, X_test, y_train, y_test = train_test_split(X, y, test_size=0.3, random_state=7)\n",
        "from sklearn.preprocessing import StandardScaler\n",
        "scaler=StandardScaler()\n",
        "X_train_scaled=scaler.fit_transform(X_train)\n",
        "X_train_scaled"
      ],
      "metadata": {
        "id": "iwJr1Rsg-iYh"
      },
      "execution_count": null,
      "outputs": []
    },
    {
      "cell_type": "code",
      "source": [
        "from sklearn.linear_model import LinearRegression\n",
        "reg = LinearRegression().fit(X_train, y_train)\n",
        "reg.score(X_test, y_test) # 0.38\n",
        "reg.score(X_train, y_train) #0.36"
      ],
      "metadata": {
        "colab": {
          "base_uri": "https://localhost:8080/"
        },
        "id": "XmoNENj4-iVp",
        "outputId": "11897140-9140-44ab-95f2-d0fed46844a5"
      },
      "execution_count": 74,
      "outputs": [
        {
          "output_type": "execute_result",
          "data": {
            "text/plain": [
              "0.36433669455427437"
            ]
          },
          "metadata": {},
          "execution_count": 74
        }
      ]
    },
    {
      "cell_type": "code",
      "source": [
        "# SO I USED LOGISTIC REGRESSION\n",
        "from sklearn.linear_model import LogisticRegression\n",
        "log_reg = LogisticRegression().fit(X_train, y_train['xyz_vaccine'])\n",
        "# log_reg.score(X_test, y_test['xyz_vaccine'])  0.82 so decent score\n",
        "\n",
        "xyz_predictions = log_reg.predict_proba(X_test)[:,1]\n",
        "print(xyz_predictions)"
      ],
      "metadata": {
        "colab": {
          "base_uri": "https://localhost:8080/"
        },
        "id": "fJPGeFpP-iSx",
        "outputId": "69fe4ff2-d393-4ed1-c9af-c8dcd1d26d43"
      },
      "execution_count": 75,
      "outputs": [
        {
          "output_type": "stream",
          "name": "stdout",
          "text": [
            "[0.1732344  0.9138037  0.5282203  ... 0.5560406  0.70040603 0.10956669]\n"
          ]
        }
      ]
    },
    {
      "cell_type": "code",
      "source": [
        "test_xyz = log_reg.predict_proba(X_test21)[:,1]\n",
        "print(test_xyz)"
      ],
      "metadata": {
        "colab": {
          "base_uri": "https://localhost:8080/"
        },
        "id": "1h9MZNVkMQGQ",
        "outputId": "9a5eb6af-ab25-4ed0-bade-6aad00966cc9"
      },
      "execution_count": 76,
      "outputs": [
        {
          "output_type": "stream",
          "name": "stdout",
          "text": [
            "[0.1543032  0.02682978 0.55983738 ... 0.08615774 0.05248093 0.20610355]\n"
          ]
        }
      ]
    },
    {
      "cell_type": "code",
      "source": [
        "from sklearn.linear_model import LogisticRegression\n",
        "log_reg = LogisticRegression().fit(X_train, y_train['seasonal_vaccine'])\n",
        "\n",
        "\n",
        "seasonal_predictions = log_reg.predict_proba(X_test)[:,1]\n",
        "print(seasonal_predictions)"
      ],
      "metadata": {
        "colab": {
          "base_uri": "https://localhost:8080/"
        },
        "id": "Mn6qVUTTFb6d",
        "outputId": "5be0117b-b7dd-43b6-cdb3-89340130e669"
      },
      "execution_count": 77,
      "outputs": [
        {
          "output_type": "stream",
          "name": "stdout",
          "text": [
            "[0.20065314 0.97638923 0.74309289 ... 0.77319839 0.93469155 0.1679102 ]\n"
          ]
        }
      ]
    },
    {
      "cell_type": "code",
      "source": [
        "test_seasonal = log_reg.predict_proba(X_test21)[:,1]\n",
        "print(test_seasonal)"
      ],
      "metadata": {
        "colab": {
          "base_uri": "https://localhost:8080/"
        },
        "id": "l3k8gWxoMKhQ",
        "outputId": "1a966c77-4034-4825-bfea-14ffe9ee9e32"
      },
      "execution_count": 78,
      "outputs": [
        {
          "output_type": "stream",
          "name": "stdout",
          "text": [
            "[0.29564302 0.0322604  0.88356903 ... 0.19284098 0.17331116 0.27874065]\n"
          ]
        }
      ]
    },
    {
      "cell_type": "code",
      "source": [
        "roc_auc_xyz = roc_auc_score(y_test['xyz_vaccine'], xyz_predictions)\n",
        "roc_auc_seasonal = roc_auc_score(y_test['seasonal_vaccine'], seasonal_predictions)\n",
        "print(roc_auc_xyz)\n",
        "print(roc_auc_seasonal)"
      ],
      "metadata": {
        "colab": {
          "base_uri": "https://localhost:8080/"
        },
        "id": "XZuACxQ5F3U3",
        "outputId": "64fde47f-2183-4fb1-f859-5cd527e09de1"
      },
      "execution_count": 79,
      "outputs": [
        {
          "output_type": "stream",
          "name": "stdout",
          "text": [
            "0.8638369740833675\n",
            "0.873958516803012\n"
          ]
        }
      ]
    },
    {
      "cell_type": "code",
      "source": [
        "final_submit  = pd.DataFrame({'respondent_id': df_test2['respondent_id'], 'xyz_vaccine': test_xyz, 'seasonal_vaccine': test_seasonal})\n",
        "final_submit.to_csv('final_submit.csv', index=False)"
      ],
      "metadata": {
        "id": "BOlbTa0QNNtb"
      },
      "execution_count": 84,
      "outputs": []
    },
    {
      "cell_type": "code",
      "source": [],
      "metadata": {
        "id": "eg_QpPTMEBDt"
      },
      "execution_count": null,
      "outputs": []
    }
  ]
}